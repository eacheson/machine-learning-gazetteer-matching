{
 "cells": [
  {
   "cell_type": "markdown",
   "metadata": {},
   "source": [
    "# GeoNames preparation\n",
    "Optionally download GeoNames data for Switzerland, then project records to swiss coordinates (E and N) and save to file."
   ]
  },
  {
   "cell_type": "code",
   "execution_count": 1,
   "metadata": {},
   "outputs": [],
   "source": [
    "import pandas as pd\n",
    "import time\n",
    "import os\n",
    "\n",
    "# own modules\n",
    "from gazmatch import gazetteers\n",
    "from gazmatch import projection"
   ]
  },
  {
   "cell_type": "code",
   "execution_count": 2,
   "metadata": {},
   "outputs": [],
   "source": [
    "data_dir = 'data'"
   ]
  },
  {
   "cell_type": "markdown",
   "metadata": {},
   "source": [
    "### Optional: download latest GeoNames Switzerland data"
   ]
  },
  {
   "cell_type": "code",
   "execution_count": null,
   "metadata": {},
   "outputs": [],
   "source": [
    "import urllib.request\n",
    "from zipfile import ZipFile\n",
    "\n",
    "geonames_ch_zip_url = r'http://download.geonames.org/export/dump/CH.zip'\n",
    "geonames_ch_zip_local = os.path.join(data_dir, 'CH.zip')\n",
    "\n",
    "urllib.request.urlretrieve(geonames_ch_zip_url, geonames_ch_zip_local)\n",
    "with ZipFile(geonames_ch_zip_local, 'r') as zipfile:\n",
    "    zipfile.extract('CH.txt', data_dir)\n",
    "\n",
    "os.remove(geonames_ch_zip_local)"
   ]
  },
  {
   "cell_type": "markdown",
   "metadata": {},
   "source": [
    "### Load GeoNames"
   ]
  },
  {
   "cell_type": "code",
   "execution_count": 3,
   "metadata": {},
   "outputs": [
    {
     "name": "stdout",
     "output_type": "stream",
     "text": [
      "We have 67796 records in GeoNames for Switzerland and 19 columns.\n"
     ]
    },
    {
     "data": {
      "text/html": [
       "<div>\n",
       "<style scoped>\n",
       "    .dataframe tbody tr th:only-of-type {\n",
       "        vertical-align: middle;\n",
       "    }\n",
       "\n",
       "    .dataframe tbody tr th {\n",
       "        vertical-align: top;\n",
       "    }\n",
       "\n",
       "    .dataframe thead th {\n",
       "        text-align: right;\n",
       "    }\n",
       "</style>\n",
       "<table border=\"1\" class=\"dataframe\">\n",
       "  <thead>\n",
       "    <tr style=\"text-align: right;\">\n",
       "      <th></th>\n",
       "      <th>geonameid</th>\n",
       "      <th>name</th>\n",
       "      <th>asciiname</th>\n",
       "      <th>alternatenames</th>\n",
       "      <th>latitude</th>\n",
       "      <th>longitude</th>\n",
       "      <th>feature class</th>\n",
       "      <th>feature code</th>\n",
       "      <th>country code</th>\n",
       "      <th>cc2</th>\n",
       "      <th>admin1 code</th>\n",
       "      <th>admin2 code</th>\n",
       "      <th>admin3 code</th>\n",
       "      <th>admin4 code</th>\n",
       "      <th>population</th>\n",
       "      <th>elevation</th>\n",
       "      <th>dem</th>\n",
       "      <th>timezone</th>\n",
       "      <th>modification date</th>\n",
       "    </tr>\n",
       "  </thead>\n",
       "  <tbody>\n",
       "    <tr>\n",
       "      <th>0</th>\n",
       "      <td>2657883</td>\n",
       "      <td>Zuger See</td>\n",
       "      <td>Zuger See</td>\n",
       "      <td>Lac de Zoug,Lago di Zug,Lai da Zug,Lake Zug,La...</td>\n",
       "      <td>47.13130</td>\n",
       "      <td>8.48335</td>\n",
       "      <td>H</td>\n",
       "      <td>LK</td>\n",
       "      <td>CH</td>\n",
       "      <td>NaN</td>\n",
       "      <td>00</td>\n",
       "      <td>NaN</td>\n",
       "      <td>NaN</td>\n",
       "      <td>NaN</td>\n",
       "      <td>0</td>\n",
       "      <td>413.0</td>\n",
       "      <td>411</td>\n",
       "      <td>Europe/Zurich</td>\n",
       "      <td>2012-02-01</td>\n",
       "    </tr>\n",
       "    <tr>\n",
       "      <th>1</th>\n",
       "      <td>2657884</td>\n",
       "      <td>Zwischbergental</td>\n",
       "      <td>Zwischbergental</td>\n",
       "      <td>Zwischberg-Thal,Zwischbergental</td>\n",
       "      <td>46.16667</td>\n",
       "      <td>8.13333</td>\n",
       "      <td>T</td>\n",
       "      <td>VAL</td>\n",
       "      <td>CH</td>\n",
       "      <td>CH</td>\n",
       "      <td>VS</td>\n",
       "      <td>NaN</td>\n",
       "      <td>NaN</td>\n",
       "      <td>NaN</td>\n",
       "      <td>0</td>\n",
       "      <td>NaN</td>\n",
       "      <td>1671</td>\n",
       "      <td>Europe/Zurich</td>\n",
       "      <td>2012-01-17</td>\n",
       "    </tr>\n",
       "    <tr>\n",
       "      <th>2</th>\n",
       "      <td>2657885</td>\n",
       "      <td>Zwischbergen</td>\n",
       "      <td>Zwischbergen</td>\n",
       "      <td>Zwischbergen,ci wei shi bei gen,茨維施貝根</td>\n",
       "      <td>46.16366</td>\n",
       "      <td>8.11575</td>\n",
       "      <td>P</td>\n",
       "      <td>PPL</td>\n",
       "      <td>CH</td>\n",
       "      <td>NaN</td>\n",
       "      <td>VS</td>\n",
       "      <td>2301.0</td>\n",
       "      <td>6011.0</td>\n",
       "      <td>NaN</td>\n",
       "      <td>127</td>\n",
       "      <td>NaN</td>\n",
       "      <td>1322</td>\n",
       "      <td>Europe/Zurich</td>\n",
       "      <td>2012-01-17</td>\n",
       "    </tr>\n",
       "    <tr>\n",
       "      <th>3</th>\n",
       "      <td>2657886</td>\n",
       "      <td>Zwingen</td>\n",
       "      <td>Zwingen</td>\n",
       "      <td>Cvingen,ci wen gen,Цвинген,茨溫根</td>\n",
       "      <td>47.43825</td>\n",
       "      <td>7.53027</td>\n",
       "      <td>P</td>\n",
       "      <td>PPL</td>\n",
       "      <td>CH</td>\n",
       "      <td>NaN</td>\n",
       "      <td>BL</td>\n",
       "      <td>1302.0</td>\n",
       "      <td>2793.0</td>\n",
       "      <td>NaN</td>\n",
       "      <td>2162</td>\n",
       "      <td>NaN</td>\n",
       "      <td>342</td>\n",
       "      <td>Europe/Zurich</td>\n",
       "      <td>2013-02-28</td>\n",
       "    </tr>\n",
       "    <tr>\n",
       "      <th>4</th>\n",
       "      <td>2657887</td>\n",
       "      <td>Zweisimmen</td>\n",
       "      <td>Zweisimmen</td>\n",
       "      <td>Cvajzimmen,Zweisimmen,Zweisimmeni vald,ci wei ...</td>\n",
       "      <td>46.55539</td>\n",
       "      <td>7.37302</td>\n",
       "      <td>P</td>\n",
       "      <td>PPL</td>\n",
       "      <td>CH</td>\n",
       "      <td>NaN</td>\n",
       "      <td>BE</td>\n",
       "      <td>248.0</td>\n",
       "      <td>794.0</td>\n",
       "      <td>NaN</td>\n",
       "      <td>2813</td>\n",
       "      <td>NaN</td>\n",
       "      <td>934</td>\n",
       "      <td>Europe/Zurich</td>\n",
       "      <td>2017-02-03</td>\n",
       "    </tr>\n",
       "  </tbody>\n",
       "</table>\n",
       "</div>"
      ],
      "text/plain": [
       "   geonameid             name        asciiname  \\\n",
       "0    2657883        Zuger See        Zuger See   \n",
       "1    2657884  Zwischbergental  Zwischbergental   \n",
       "2    2657885     Zwischbergen     Zwischbergen   \n",
       "3    2657886          Zwingen          Zwingen   \n",
       "4    2657887       Zweisimmen       Zweisimmen   \n",
       "\n",
       "                                      alternatenames  latitude  longitude  \\\n",
       "0  Lac de Zoug,Lago di Zug,Lai da Zug,Lake Zug,La...  47.13130    8.48335   \n",
       "1                    Zwischberg-Thal,Zwischbergental  46.16667    8.13333   \n",
       "2              Zwischbergen,ci wei shi bei gen,茨維施貝根  46.16366    8.11575   \n",
       "3                     Cvingen,ci wen gen,Цвинген,茨溫根  47.43825    7.53027   \n",
       "4  Cvajzimmen,Zweisimmen,Zweisimmeni vald,ci wei ...  46.55539    7.37302   \n",
       "\n",
       "  feature class feature code country code  cc2 admin1 code  admin2 code  \\\n",
       "0             H           LK           CH  NaN          00          NaN   \n",
       "1             T          VAL           CH   CH          VS          NaN   \n",
       "2             P          PPL           CH  NaN          VS       2301.0   \n",
       "3             P          PPL           CH  NaN          BL       1302.0   \n",
       "4             P          PPL           CH  NaN          BE        248.0   \n",
       "\n",
       "   admin3 code  admin4 code  population  elevation   dem       timezone  \\\n",
       "0          NaN          NaN           0      413.0   411  Europe/Zurich   \n",
       "1          NaN          NaN           0        NaN  1671  Europe/Zurich   \n",
       "2       6011.0          NaN         127        NaN  1322  Europe/Zurich   \n",
       "3       2793.0          NaN        2162        NaN   342  Europe/Zurich   \n",
       "4        794.0          NaN        2813        NaN   934  Europe/Zurich   \n",
       "\n",
       "  modification date  \n",
       "0        2012-02-01  \n",
       "1        2012-01-17  \n",
       "2        2012-01-17  \n",
       "3        2013-02-28  \n",
       "4        2017-02-03  "
      ]
     },
     "execution_count": 3,
     "metadata": {},
     "output_type": "execute_result"
    }
   ],
   "source": [
    "geonames = gazetteers.GeoNamesCH(data_dir=data_dir, verbose=True)\n",
    "geonames.df.head()"
   ]
  },
  {
   "cell_type": "code",
   "execution_count": 4,
   "metadata": {},
   "outputs": [
    {
     "name": "stdout",
     "output_type": "stream",
     "text": [
      "(67796, 19)\n"
     ]
    }
   ],
   "source": [
    "geonames_copy = geonames.df.copy()\n",
    "print(geonames_copy.shape)"
   ]
  },
  {
   "cell_type": "markdown",
   "metadata": {},
   "source": [
    "### Project all features in batches"
   ]
  },
  {
   "cell_type": "code",
   "execution_count": 5,
   "metadata": {},
   "outputs": [
    {
     "name": "stdout",
     "output_type": "stream",
     "text": [
      "Start index was 0\n",
      "Started with 20000 lat-lon coordinates.\n",
      "Ended up with 20000 swiss coordinates.\n",
      "Projection took 4.621s\n",
      "Start index was 20000\n",
      "Started with 20000 lat-lon coordinates.\n",
      "Ended up with 20000 swiss coordinates.\n",
      "Projection took 3.118s\n",
      "Start index was 40000\n",
      "Started with 20000 lat-lon coordinates.\n",
      "Ended up with 20000 swiss coordinates.\n",
      "Projection took 3.603s\n",
      "Start index was 60000\n",
      "Started with 7796 lat-lon coordinates.\n",
      "Ended up with 7796 swiss coordinates.\n",
      "Projection took 1.546s\n"
     ]
    }
   ],
   "source": [
    "max_features = 20000\n",
    "start_index = 0\n",
    "dfs = []\n",
    "while (start_index+1) <= geonames_copy.shape[0]:\n",
    "    print(\"Start index was %s\" %start_index)\n",
    "    geonames_subset = geonames_copy.iloc[start_index:start_index+max_features].copy() # select feature subset\n",
    "    \n",
    "    lats = geonames_subset['latitude'].tolist()\n",
    "    lons = geonames_subset['longitude'].tolist()\n",
    "    latlon_coords = list(zip(lats, lons))\n",
    "    print(\"Started with %s lat-lon coordinates.\" %len(latlon_coords))\n",
    "    t1 = time.time()\n",
    "    swiss_coords = projection.latlon_to_swiss_batch(latlon_coords)\n",
    "    t2 = time.time()\n",
    "    print(\"Ended up with %s swiss coordinates.\" %len(swiss_coords))\n",
    "    print('Projection took %0.3fs' % ((t2-t1)))\n",
    "    Es, Ns = zip(*swiss_coords)\n",
    "    geonames_subset['gn_E'] = pd.Series(list(Es), index=geonames_subset.index)\n",
    "    geonames_subset['gn_N'] = pd.Series(list(Ns), index=geonames_subset.index)    \n",
    "    dfs.append(geonames_subset)\n",
    "    start_index += max_features\n",
    "\n",
    "#print(\"\\nWe end up with %s dataframes\" %len(dfs))"
   ]
  },
  {
   "cell_type": "markdown",
   "metadata": {},
   "source": [
    "### Concat back into one"
   ]
  },
  {
   "cell_type": "code",
   "execution_count": 6,
   "metadata": {},
   "outputs": [
    {
     "data": {
      "text/plain": [
       "(67796, 21)"
      ]
     },
     "execution_count": 6,
     "metadata": {},
     "output_type": "execute_result"
    }
   ],
   "source": [
    "df_all = pd.concat(dfs, axis=0)\n",
    "df_all.shape"
   ]
  },
  {
   "cell_type": "code",
   "execution_count": 7,
   "metadata": {},
   "outputs": [
    {
     "name": "stdout",
     "output_type": "stream",
     "text": [
      "(0, 21)\n",
      "(0, 21)\n"
     ]
    }
   ],
   "source": [
    "# sanity check (there should not be any nulls)\n",
    "print(df_all[df_all['gn_E'].isnull()].shape)\n",
    "print(df_all[df_all['gn_N'].isnull()].shape)"
   ]
  },
  {
   "cell_type": "code",
   "execution_count": 8,
   "metadata": {},
   "outputs": [],
   "source": [
    "# export to csv\n",
    "path_filename_csv = os.path.join(data_dir, 'geonames_ch_swisscoords.csv')\n",
    "df_all.to_csv(path_or_buf=path_filename_csv, sep='\\t', index=False, encoding='utf-8')"
   ]
  },
  {
   "cell_type": "code",
   "execution_count": null,
   "metadata": {},
   "outputs": [],
   "source": []
  }
 ],
 "metadata": {
  "anaconda-cloud": {},
  "kernelspec": {
   "display_name": "Python 3",
   "language": "python",
   "name": "python3"
  },
  "language_info": {
   "codemirror_mode": {
    "name": "ipython",
    "version": 3
   },
   "file_extension": ".py",
   "mimetype": "text/x-python",
   "name": "python",
   "nbconvert_exporter": "python",
   "pygments_lexer": "ipython3",
   "version": "3.6.8"
  }
 },
 "nbformat": 4,
 "nbformat_minor": 1
}
