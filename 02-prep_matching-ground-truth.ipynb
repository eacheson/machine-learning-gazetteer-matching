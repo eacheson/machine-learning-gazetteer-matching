{
 "cells": [
  {
   "cell_type": "markdown",
   "metadata": {},
   "source": [
    "# Matching preparation\n",
    "- Build a flat ground truth structure which is just a list of matches (rather than having extra_matches listed in a 3rd column in a table, they are all treated as just another matching pair).\n",
    "- Augment the ground truth by 're-hydrating' our data, going from the geonames IDs that we annotated to a fuller table where each ID is now a row with extra record info contained in GeoNames."
   ]
  },
  {
   "cell_type": "code",
   "execution_count": 1,
   "metadata": {},
   "outputs": [],
   "source": [
    "import pandas as pd\n",
    "import pickle\n",
    "import os\n",
    "\n",
    "# own file\n",
    "from gazmatch import gazetteers"
   ]
  },
  {
   "cell_type": "code",
   "execution_count": 2,
   "metadata": {},
   "outputs": [
    {
     "data": {
      "text/html": [
       "<div>\n",
       "<style scoped>\n",
       "    .dataframe tbody tr th:only-of-type {\n",
       "        vertical-align: middle;\n",
       "    }\n",
       "\n",
       "    .dataframe tbody tr th {\n",
       "        vertical-align: top;\n",
       "    }\n",
       "\n",
       "    .dataframe thead th {\n",
       "        text-align: right;\n",
       "    }\n",
       "</style>\n",
       "<table border=\"1\" class=\"dataframe\">\n",
       "  <thead>\n",
       "    <tr style=\"text-align: right;\">\n",
       "      <th></th>\n",
       "      <th>geonameid</th>\n",
       "      <th>swissnamesid</th>\n",
       "      <th>extra_matches</th>\n",
       "    </tr>\n",
       "  </thead>\n",
       "  <tbody>\n",
       "    <tr>\n",
       "      <th>0</th>\n",
       "      <td>11397484</td>\n",
       "      <td>{BA8C7006-4DE0-482A-9444-6BD1D3385E4A}</td>\n",
       "      <td>{E274F0C0-15B5-4EDC-8446-B3633E168F4C}</td>\n",
       "    </tr>\n",
       "    <tr>\n",
       "      <th>1</th>\n",
       "      <td>11397700</td>\n",
       "      <td>{DB24E683-81C2-40C9-801F-EE758BFC4E5D}</td>\n",
       "      <td>NaN</td>\n",
       "    </tr>\n",
       "    <tr>\n",
       "      <th>2</th>\n",
       "      <td>11397591</td>\n",
       "      <td>{C81F0B97-0601-4285-8939-6C9319345EA0}</td>\n",
       "      <td>{1E01D03B-9A91-4643-B89A-0CAC3D7EEE8D};{4051AB...</td>\n",
       "    </tr>\n",
       "    <tr>\n",
       "      <th>3</th>\n",
       "      <td>11397623</td>\n",
       "      <td>{91C23277-FC70-4B88-B468-E69D1CCBB9DB}</td>\n",
       "      <td>{7E30D82D-5794-4415-88E1-30133B45CB93};{5F8049...</td>\n",
       "    </tr>\n",
       "    <tr>\n",
       "      <th>4</th>\n",
       "      <td>11397558</td>\n",
       "      <td>{5F8049DC-CE8E-4A07-91EE-D23AE256C21B}</td>\n",
       "      <td>{91C23277-FC70-4B88-B468-E69D1CCBB9DB};{7E30D8...</td>\n",
       "    </tr>\n",
       "  </tbody>\n",
       "</table>\n",
       "</div>"
      ],
      "text/plain": [
       "   geonameid                            swissnamesid  \\\n",
       "0   11397484  {BA8C7006-4DE0-482A-9444-6BD1D3385E4A}   \n",
       "1   11397700  {DB24E683-81C2-40C9-801F-EE758BFC4E5D}   \n",
       "2   11397591  {C81F0B97-0601-4285-8939-6C9319345EA0}   \n",
       "3   11397623  {91C23277-FC70-4B88-B468-E69D1CCBB9DB}   \n",
       "4   11397558  {5F8049DC-CE8E-4A07-91EE-D23AE256C21B}   \n",
       "\n",
       "                                       extra_matches  \n",
       "0             {E274F0C0-15B5-4EDC-8446-B3633E168F4C}  \n",
       "1                                                NaN  \n",
       "2  {1E01D03B-9A91-4643-B89A-0CAC3D7EEE8D};{4051AB...  \n",
       "3  {7E30D82D-5794-4415-88E1-30133B45CB93};{5F8049...  \n",
       "4  {91C23277-FC70-4B88-B468-E69D1CCBB9DB};{7E30D8...  "
      ]
     },
     "execution_count": 2,
     "metadata": {},
     "output_type": "execute_result"
    }
   ],
   "source": [
    "data_dir = 'data'\n",
    "path_to_ground_truth = os.path.join(data_dir, 'annotated_sample.csv')\n",
    "df_matches_grouped = pd.read_csv(path_to_ground_truth, sep='\\t', encoding='utf-8')\n",
    "df_matches_grouped.head()"
   ]
  },
  {
   "cell_type": "markdown",
   "metadata": {},
   "source": [
    "### Flatten extra matches"
   ]
  },
  {
   "cell_type": "code",
   "execution_count": 3,
   "metadata": {},
   "outputs": [
    {
     "name": "stdout",
     "output_type": "stream",
     "text": [
      "flattened ground truth has 468 pairs\n"
     ]
    }
   ],
   "source": [
    "ground_truth_flat = []\n",
    "\n",
    "for index, row in df_matches_grouped.iterrows():\n",
    "    gn_id = row['geonameid']\n",
    "    sn_id = str(row['swissnamesid'])\n",
    "    if sn_id.startswith(\"{\"):\n",
    "        ground_truth_flat.append((gn_id, sn_id))\n",
    "    else:\n",
    "        # we don't even have a top match\n",
    "        continue\n",
    "    sn_extra_ids = str(row['extra_matches'])\n",
    "    # process the extra matches if we have any \n",
    "    if sn_extra_ids != 'nan':\n",
    "        for sn_extra_id in str(sn_extra_ids).split(\";\"):\n",
    "            sn_id_clean = sn_extra_id.strip()\n",
    "            if sn_id_clean.startswith(\"{\"):\n",
    "                ground_truth_flat.append((gn_id, sn_id_clean))\n",
    "\n",
    "print(\"flattened ground truth has %s pairs\" %len(ground_truth_flat))"
   ]
  },
  {
   "cell_type": "code",
   "execution_count": 4,
   "metadata": {},
   "outputs": [
    {
     "data": {
      "text/html": [
       "<div>\n",
       "<style scoped>\n",
       "    .dataframe tbody tr th:only-of-type {\n",
       "        vertical-align: middle;\n",
       "    }\n",
       "\n",
       "    .dataframe tbody tr th {\n",
       "        vertical-align: top;\n",
       "    }\n",
       "\n",
       "    .dataframe thead th {\n",
       "        text-align: right;\n",
       "    }\n",
       "</style>\n",
       "<table border=\"1\" class=\"dataframe\">\n",
       "  <thead>\n",
       "    <tr style=\"text-align: right;\">\n",
       "      <th></th>\n",
       "      <th>geonameid</th>\n",
       "      <th>swissnamesid</th>\n",
       "    </tr>\n",
       "  </thead>\n",
       "  <tbody>\n",
       "    <tr>\n",
       "      <th>0</th>\n",
       "      <td>11397484</td>\n",
       "      <td>{BA8C7006-4DE0-482A-9444-6BD1D3385E4A}</td>\n",
       "    </tr>\n",
       "    <tr>\n",
       "      <th>1</th>\n",
       "      <td>11397484</td>\n",
       "      <td>{E274F0C0-15B5-4EDC-8446-B3633E168F4C}</td>\n",
       "    </tr>\n",
       "    <tr>\n",
       "      <th>2</th>\n",
       "      <td>11397700</td>\n",
       "      <td>{DB24E683-81C2-40C9-801F-EE758BFC4E5D}</td>\n",
       "    </tr>\n",
       "    <tr>\n",
       "      <th>3</th>\n",
       "      <td>11397591</td>\n",
       "      <td>{C81F0B97-0601-4285-8939-6C9319345EA0}</td>\n",
       "    </tr>\n",
       "    <tr>\n",
       "      <th>4</th>\n",
       "      <td>11397591</td>\n",
       "      <td>{1E01D03B-9A91-4643-B89A-0CAC3D7EEE8D}</td>\n",
       "    </tr>\n",
       "  </tbody>\n",
       "</table>\n",
       "</div>"
      ],
      "text/plain": [
       "   geonameid                            swissnamesid\n",
       "0   11397484  {BA8C7006-4DE0-482A-9444-6BD1D3385E4A}\n",
       "1   11397484  {E274F0C0-15B5-4EDC-8446-B3633E168F4C}\n",
       "2   11397700  {DB24E683-81C2-40C9-801F-EE758BFC4E5D}\n",
       "3   11397591  {C81F0B97-0601-4285-8939-6C9319345EA0}\n",
       "4   11397591  {1E01D03B-9A91-4643-B89A-0CAC3D7EEE8D}"
      ]
     },
     "execution_count": 4,
     "metadata": {},
     "output_type": "execute_result"
    }
   ],
   "source": [
    "# turn into a dataframe\n",
    "cols = ['geonameid', 'swissnamesid']\n",
    "df_matches_flat = pd.DataFrame.from_records(ground_truth_flat, columns=cols)\n",
    "df_matches_flat.head()"
   ]
  },
  {
   "cell_type": "code",
   "execution_count": 5,
   "metadata": {},
   "outputs": [],
   "source": [
    "# export to CSV\n",
    "path_to_ground_truth_flat = os.path.join(data_dir, 'ground_truth_flat.csv')\n",
    "df_matches_flat.to_csv(path_to_ground_truth_flat, sep='\\t', index=False, encoding='utf-8')\n",
    "\n",
    "# also pickle (serialize) the list directly\n",
    "path_to_pickle = os.path.join(data_dir, 'ground_truth_flat.pkl')\n",
    "with open(path_to_pickle, 'wb') as pickle_file:\n",
    "    pickle.dump(ground_truth_flat, pickle_file)"
   ]
  },
  {
   "cell_type": "markdown",
   "metadata": {},
   "source": [
    "### Augment ground truth ids"
   ]
  },
  {
   "cell_type": "code",
   "execution_count": 6,
   "metadata": {},
   "outputs": [
    {
     "name": "stdout",
     "output_type": "stream",
     "text": [
      "We have 67796 records in GeoNames for Switzerland and 19 columns.\n"
     ]
    }
   ],
   "source": [
    "geonames = gazetteers.GeoNamesCH(data_dir=data_dir, verbose=True)"
   ]
  },
  {
   "cell_type": "code",
   "execution_count": 7,
   "metadata": {},
   "outputs": [
    {
     "data": {
      "text/plain": [
       "400"
      ]
     },
     "execution_count": 7,
     "metadata": {},
     "output_type": "execute_result"
    }
   ],
   "source": [
    "geoname_ids = df_matches_grouped['geonameid'].tolist()\n",
    "len(geoname_ids)"
   ]
  },
  {
   "cell_type": "code",
   "execution_count": 8,
   "metadata": {},
   "outputs": [
    {
     "data": {
      "text/html": [
       "<div>\n",
       "<style scoped>\n",
       "    .dataframe tbody tr th:only-of-type {\n",
       "        vertical-align: middle;\n",
       "    }\n",
       "\n",
       "    .dataframe tbody tr th {\n",
       "        vertical-align: top;\n",
       "    }\n",
       "\n",
       "    .dataframe thead th {\n",
       "        text-align: right;\n",
       "    }\n",
       "</style>\n",
       "<table border=\"1\" class=\"dataframe\">\n",
       "  <thead>\n",
       "    <tr style=\"text-align: right;\">\n",
       "      <th></th>\n",
       "      <th>admin1 code</th>\n",
       "      <th>admin2 code</th>\n",
       "      <th>admin3 code</th>\n",
       "      <th>admin4 code</th>\n",
       "      <th>alternatenames</th>\n",
       "      <th>asciiname</th>\n",
       "      <th>cc2</th>\n",
       "      <th>country code</th>\n",
       "      <th>dem</th>\n",
       "      <th>elevation</th>\n",
       "      <th>feature class</th>\n",
       "      <th>feature code</th>\n",
       "      <th>geonameid</th>\n",
       "      <th>latitude</th>\n",
       "      <th>longitude</th>\n",
       "      <th>modification date</th>\n",
       "      <th>name</th>\n",
       "      <th>population</th>\n",
       "      <th>timezone</th>\n",
       "    </tr>\n",
       "  </thead>\n",
       "  <tbody>\n",
       "    <tr>\n",
       "      <th>0</th>\n",
       "      <td>UR</td>\n",
       "      <td>400.0</td>\n",
       "      <td>1208.0</td>\n",
       "      <td>NaN</td>\n",
       "      <td>NaN</td>\n",
       "      <td>AElprigengletscher</td>\n",
       "      <td>NaN</td>\n",
       "      <td>CH</td>\n",
       "      <td>2800</td>\n",
       "      <td>NaN</td>\n",
       "      <td>H</td>\n",
       "      <td>GLCR</td>\n",
       "      <td>11397484</td>\n",
       "      <td>46.62199</td>\n",
       "      <td>8.48848</td>\n",
       "      <td>2016-12-28</td>\n",
       "      <td>Älprigengletscher</td>\n",
       "      <td>0</td>\n",
       "      <td>Europe/Zurich</td>\n",
       "    </tr>\n",
       "    <tr>\n",
       "      <th>1</th>\n",
       "      <td>VS</td>\n",
       "      <td>2309.0</td>\n",
       "      <td>6192.0</td>\n",
       "      <td>NaN</td>\n",
       "      <td>NaN</td>\n",
       "      <td>Birchgletscher</td>\n",
       "      <td>NaN</td>\n",
       "      <td>CH</td>\n",
       "      <td>2788</td>\n",
       "      <td>NaN</td>\n",
       "      <td>H</td>\n",
       "      <td>GLCR</td>\n",
       "      <td>11397700</td>\n",
       "      <td>46.40142</td>\n",
       "      <td>7.84096</td>\n",
       "      <td>2016-12-28</td>\n",
       "      <td>Birchgletscher</td>\n",
       "      <td>0</td>\n",
       "      <td>Europe/Zurich</td>\n",
       "    </tr>\n",
       "    <tr>\n",
       "      <th>2</th>\n",
       "      <td>UR</td>\n",
       "      <td>400.0</td>\n",
       "      <td>1220.0</td>\n",
       "      <td>NaN</td>\n",
       "      <td>NaN</td>\n",
       "      <td>Chueefadfirn</td>\n",
       "      <td>NaN</td>\n",
       "      <td>CH</td>\n",
       "      <td>2754</td>\n",
       "      <td>NaN</td>\n",
       "      <td>H</td>\n",
       "      <td>GLCR</td>\n",
       "      <td>11397591</td>\n",
       "      <td>46.77595</td>\n",
       "      <td>8.50970</td>\n",
       "      <td>2016-12-28</td>\n",
       "      <td>Chüefadfirn</td>\n",
       "      <td>0</td>\n",
       "      <td>Europe/Zurich</td>\n",
       "    </tr>\n",
       "    <tr>\n",
       "      <th>3</th>\n",
       "      <td>BE</td>\n",
       "      <td>250.0</td>\n",
       "      <td>782.0</td>\n",
       "      <td>NaN</td>\n",
       "      <td>NaN</td>\n",
       "      <td>Diechtergletscher</td>\n",
       "      <td>NaN</td>\n",
       "      <td>CH</td>\n",
       "      <td>2870</td>\n",
       "      <td>NaN</td>\n",
       "      <td>H</td>\n",
       "      <td>GLCR</td>\n",
       "      <td>11397623</td>\n",
       "      <td>46.65359</td>\n",
       "      <td>8.34409</td>\n",
       "      <td>2016-12-28</td>\n",
       "      <td>Diechtergletscher</td>\n",
       "      <td>0</td>\n",
       "      <td>Europe/Zurich</td>\n",
       "    </tr>\n",
       "    <tr>\n",
       "      <th>4</th>\n",
       "      <td>BE</td>\n",
       "      <td>250.0</td>\n",
       "      <td>782.0</td>\n",
       "      <td>NaN</td>\n",
       "      <td>NaN</td>\n",
       "      <td>Diechtergletscher</td>\n",
       "      <td>NaN</td>\n",
       "      <td>CH</td>\n",
       "      <td>2975</td>\n",
       "      <td>NaN</td>\n",
       "      <td>H</td>\n",
       "      <td>GLCR</td>\n",
       "      <td>11397558</td>\n",
       "      <td>46.63989</td>\n",
       "      <td>8.35707</td>\n",
       "      <td>2016-12-28</td>\n",
       "      <td>Diechtergletscher</td>\n",
       "      <td>0</td>\n",
       "      <td>Europe/Zurich</td>\n",
       "    </tr>\n",
       "  </tbody>\n",
       "</table>\n",
       "</div>"
      ],
      "text/plain": [
       "  admin1 code  admin2 code  admin3 code  admin4 code alternatenames  \\\n",
       "0          UR        400.0       1208.0          NaN            NaN   \n",
       "1          VS       2309.0       6192.0          NaN            NaN   \n",
       "2          UR        400.0       1220.0          NaN            NaN   \n",
       "3          BE        250.0        782.0          NaN            NaN   \n",
       "4          BE        250.0        782.0          NaN            NaN   \n",
       "\n",
       "            asciiname  cc2 country code   dem  elevation feature class  \\\n",
       "0  AElprigengletscher  NaN           CH  2800        NaN             H   \n",
       "1      Birchgletscher  NaN           CH  2788        NaN             H   \n",
       "2        Chueefadfirn  NaN           CH  2754        NaN             H   \n",
       "3   Diechtergletscher  NaN           CH  2870        NaN             H   \n",
       "4   Diechtergletscher  NaN           CH  2975        NaN             H   \n",
       "\n",
       "  feature code  geonameid  latitude  longitude modification date  \\\n",
       "0         GLCR   11397484  46.62199    8.48848        2016-12-28   \n",
       "1         GLCR   11397700  46.40142    7.84096        2016-12-28   \n",
       "2         GLCR   11397591  46.77595    8.50970        2016-12-28   \n",
       "3         GLCR   11397623  46.65359    8.34409        2016-12-28   \n",
       "4         GLCR   11397558  46.63989    8.35707        2016-12-28   \n",
       "\n",
       "                name  population       timezone  \n",
       "0  Älprigengletscher           0  Europe/Zurich  \n",
       "1     Birchgletscher           0  Europe/Zurich  \n",
       "2        Chüefadfirn           0  Europe/Zurich  \n",
       "3  Diechtergletscher           0  Europe/Zurich  \n",
       "4  Diechtergletscher           0  Europe/Zurich  "
      ]
     },
     "execution_count": 8,
     "metadata": {},
     "output_type": "execute_result"
    }
   ],
   "source": [
    "augmented_records = []\n",
    "\n",
    "for geoname_id in geoname_ids:\n",
    "    record = geonames.retrieve_by_id(geoname_id)\n",
    "    augmented_records.append(record)\n",
    "\n",
    "df_augmented = pd.DataFrame(augmented_records)\n",
    "df_augmented.head()"
   ]
  },
  {
   "cell_type": "code",
   "execution_count": 9,
   "metadata": {},
   "outputs": [],
   "source": [
    "# export to CSV\n",
    "path_to_augmented_data = os.path.join(data_dir, 'source_data_augmented.csv')\n",
    "df_augmented.to_csv(path_to_augmented_data, sep='\\t', index=False, encoding='utf-8')"
   ]
  },
  {
   "cell_type": "code",
   "execution_count": null,
   "metadata": {},
   "outputs": [],
   "source": [
    ""
   ]
  }
 ],
 "metadata": {
  "anaconda-cloud": {},
  "kernelspec": {
   "display_name": "Python 3",
   "language": "python",
   "name": "python3"
  },
  "language_info": {
   "codemirror_mode": {
    "name": "ipython",
    "version": 3.0
   },
   "file_extension": ".py",
   "mimetype": "text/x-python",
   "name": "python",
   "nbconvert_exporter": "python",
   "pygments_lexer": "ipython3",
   "version": "3.6.8"
  }
 },
 "nbformat": 4,
 "nbformat_minor": 0
}