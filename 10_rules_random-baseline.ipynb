{
 "cells": [
  {
   "cell_type": "markdown",
   "metadata": {},
   "source": [
    "# Rule-based gazetteer matching: random-baseline"
   ]
  },
  {
   "cell_type": "code",
   "execution_count": 1,
   "metadata": {},
   "outputs": [],
   "source": [
    "import pandas as pd\n",
    "import os\n",
    "    \n",
    "# own file\n",
    "from gazmatch import matchutils as mu"
   ]
  },
  {
   "cell_type": "code",
   "execution_count": 2,
   "metadata": {},
   "outputs": [],
   "source": [
    "data_dir = 'data'"
   ]
  },
  {
   "cell_type": "markdown",
   "metadata": {},
   "source": [
    "### Load data"
   ]
  },
  {
   "cell_type": "code",
   "execution_count": 3,
   "metadata": {},
   "outputs": [
    {
     "name": "stdout",
     "output_type": "stream",
     "text": [
      "468 matching pairs\n"
     ]
    }
   ],
   "source": [
    "# load ground truth data (pickled)\n",
    "ground_truth_flat = mu.load_data(os.path.join(data_dir, 'ground_truth_flat.pkl'))\n",
    "print(\"%s matching pairs\" %len(ground_truth_flat))"
   ]
  },
  {
   "cell_type": "code",
   "execution_count": 4,
   "metadata": {},
   "outputs": [
    {
     "data": {
      "text/plain": [
       "(313562, 21)"
      ]
     },
     "execution_count": 4,
     "metadata": {},
     "output_type": "execute_result"
    }
   ],
   "source": [
    "# load SwissNames3D augmented with lat, lons\n",
    "path_swissnames_csv = os.path.join(data_dir, 'swissnames_new_uuids.csv')\n",
    "swissnames = pd.read_csv(path_swissnames_csv, sep='\\t', encoding='utf-8', low_memory=False)\n",
    "swissnames.shape"
   ]
  },
  {
   "cell_type": "code",
   "execution_count": 5,
   "metadata": {},
   "outputs": [],
   "source": [
    "# source data (Geonames records)\n",
    "path_to_source_data = os.path.join(data_dir, 'source_data_augmented.csv')\n",
    "df_source = pd.read_csv(path_to_source_data, sep='\\t', encoding='utf-8')"
   ]
  },
  {
   "cell_type": "markdown",
   "metadata": {},
   "source": [
    "## Rule-based matching"
   ]
  },
  {
   "cell_type": "code",
   "execution_count": 6,
   "metadata": {},
   "outputs": [],
   "source": [
    "def get_exact_matches(token, grouped_df, df_cols):\n",
    "    try:\n",
    "        df_ret = grouped_df.get_group(token)\n",
    "        return df_ret\n",
    "    except KeyError:\n",
    "        return pd.DataFrame(columns=df_cols)\n",
    "\n",
    "def single_run(source_type_groups, target_name_groups, target_cols, print_type_results=False, print_overall_results=False):\n",
    "    matches_overall = []\n",
    "    neg_overall = []\n",
    "    if print_type_results:\n",
    "        print(\"\\tprec\\trecall\\tf1\")\n",
    "    for ftype, group in source_type_groups:\n",
    "        matches_type = []\n",
    "        neg_type = []\n",
    "        gn_ids_type = []\n",
    "        for index, gn_record in group.iterrows():\n",
    "            name = gn_record['name']\n",
    "            gn_id = gn_record['geonameid']\n",
    "            gn_ids_type.append(gn_id)\n",
    "            # 1. get any exact name matches as candidates\n",
    "            df_exact_all = get_exact_matches(name, target_name_groups, target_cols)\n",
    "            df_exact = df_exact_all.copy()\n",
    "            if df_exact.empty:\n",
    "                neg_type.append((gn_id, mu.NO_MATCH_STRING))\n",
    "                neg_overall.append((gn_id, mu.NO_MATCH_STRING))\n",
    "                continue\n",
    "            # 2. take a random exact match as the match\n",
    "            df_match = df_exact.sample() # defaults to n=1\n",
    "            matches_type.append((gn_id, df_match.iloc[0]['UUID_old']))\n",
    "            matches_overall.append((gn_id, df_match.iloc[0]['UUID_old']))\n",
    "        # filter ground truth to ids of current feature type only\n",
    "        gn_ids_type_set = set(gn_ids_type)\n",
    "        ground_truth_type = [item for item in ground_truth_flat if item[0] in gn_ids_type_set]\n",
    "        p_type, r_type, f1_type = mu.evaluate_results_list(matches_type, neg_type, ground_truth_type, verbose=False)\n",
    "        if print_type_results:\n",
    "            print(\"%s\\t%.3f\\t%.3f\\t%.3f\" %(ftype, p_type, r_type, f1_type))\n",
    "            \n",
    "    p, r, f1 = mu.evaluate_results_list(matches_overall, neg_overall, ground_truth_flat, verbose=False)\n",
    "    if print_overall_results:\n",
    "        print(\"%.3f\\t%.3f\\t%.3f\" %(p, r, f1))\n",
    "    return matches_overall, neg_overall"
   ]
  },
  {
   "cell_type": "markdown",
   "metadata": {},
   "source": [
    "### Run once"
   ]
  },
  {
   "cell_type": "code",
   "execution_count": 7,
   "metadata": {},
   "outputs": [
    {
     "name": "stdout",
     "output_type": "stream",
     "text": [
      "\tprec\trecall\tf1\n",
      "GLCR\t0.939\t0.529\t0.676\n",
      "HLL\t0.720\t0.679\t0.699\n",
      "LK\t0.913\t0.792\t0.848\n",
      "MT\t0.625\t0.556\t0.588\n",
      "PASS\t0.895\t0.654\t0.756\n",
      "PK\t0.804\t0.771\t0.787\n",
      "STM\t0.629\t0.259\t0.367\n",
      "VAL\t0.794\t0.600\t0.684\n"
     ]
    }
   ],
   "source": [
    "# swissnames name groups\n",
    "sn_name_groups = swissnames.groupby(['NAME'])\n",
    "\n",
    "# geonames type groups\n",
    "type_groups = df_source.groupby(['feature code'])\n",
    "\n",
    "# show performance by type\n",
    "test_single = single_run(type_groups, sn_name_groups, swissnames.columns, print_type_results=True, print_overall_results=False)"
   ]
  },
  {
   "cell_type": "markdown",
   "metadata": {
    "collapsed": true
   },
   "source": [
    "### Run multiple times\n",
    "Because there's a randomness element, the results change slightly at each run."
   ]
  },
  {
   "cell_type": "code",
   "execution_count": 8,
   "metadata": {},
   "outputs": [
    {
     "name": "stdout",
     "output_type": "stream",
     "text": [
      "prec\trecall\tf1\n",
      "0.808\t0.583\t0.677\n",
      "0.796\t0.575\t0.667\n",
      "0.811\t0.585\t0.680\n",
      "0.796\t0.575\t0.667\n",
      "0.772\t0.558\t0.648\n",
      "0.805\t0.581\t0.675\n",
      "0.784\t0.566\t0.658\n",
      "0.799\t0.577\t0.670\n",
      "0.790\t0.571\t0.663\n",
      "0.808\t0.583\t0.677\n"
     ]
    }
   ],
   "source": [
    "# run 10 times\n",
    "print(\"prec\\trecall\\tf1\")\n",
    "for i in range(0,10):\n",
    "    single_run(type_groups, sn_name_groups, swissnames.columns, print_type_results=False, print_overall_results=True)"
   ]
  },
  {
   "cell_type": "code",
   "execution_count": null,
   "metadata": {},
   "outputs": [],
   "source": []
  }
 ],
 "metadata": {
  "anaconda-cloud": {},
  "kernelspec": {
   "display_name": "Python 3",
   "language": "python",
   "name": "python3"
  },
  "language_info": {
   "codemirror_mode": {
    "name": "ipython",
    "version": 3
   },
   "file_extension": ".py",
   "mimetype": "text/x-python",
   "name": "python",
   "nbconvert_exporter": "python",
   "pygments_lexer": "ipython3",
   "version": "3.6.8"
  }
 },
 "nbformat": 4,
 "nbformat_minor": 1
}
